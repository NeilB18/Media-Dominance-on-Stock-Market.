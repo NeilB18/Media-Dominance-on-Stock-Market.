{
 "cells": [
  {
   "cell_type": "markdown",
   "metadata": {},
   "source": [
    "Data Pre-processing "
   ]
  },
  {
   "cell_type": "code",
   "execution_count": 1,
   "metadata": {},
   "outputs": [
    {
     "data": {
      "text/html": [
       "<div>\n",
       "<style scoped>\n",
       "    .dataframe tbody tr th:only-of-type {\n",
       "        vertical-align: middle;\n",
       "    }\n",
       "\n",
       "    .dataframe tbody tr th {\n",
       "        vertical-align: top;\n",
       "    }\n",
       "\n",
       "    .dataframe thead th {\n",
       "        text-align: right;\n",
       "    }\n",
       "</style>\n",
       "<table border=\"1\" class=\"dataframe\">\n",
       "  <thead>\n",
       "    <tr style=\"text-align: right;\">\n",
       "      <th></th>\n",
       "      <th>Date</th>\n",
       "      <th>Open</th>\n",
       "      <th>High</th>\n",
       "      <th>Low</th>\n",
       "      <th>Close*</th>\n",
       "      <th>Avg. Sentiment Score</th>\n",
       "      <th>Tragectory</th>\n",
       "    </tr>\n",
       "  </thead>\n",
       "  <tbody>\n",
       "    <tr>\n",
       "      <th>0</th>\n",
       "      <td>2023-06-29</td>\n",
       "      <td>4374.94</td>\n",
       "      <td>4398.39</td>\n",
       "      <td>4371.97</td>\n",
       "      <td>4396.44</td>\n",
       "      <td>0.5940</td>\n",
       "      <td>1</td>\n",
       "    </tr>\n",
       "    <tr>\n",
       "      <th>1</th>\n",
       "      <td>2023-06-30</td>\n",
       "      <td>4422.44</td>\n",
       "      <td>4458.48</td>\n",
       "      <td>4422.44</td>\n",
       "      <td>4450.38</td>\n",
       "      <td>0.6130</td>\n",
       "      <td>1</td>\n",
       "    </tr>\n",
       "    <tr>\n",
       "      <th>2</th>\n",
       "      <td>2023-07-03</td>\n",
       "      <td>4450.48</td>\n",
       "      <td>4456.46</td>\n",
       "      <td>4442.29</td>\n",
       "      <td>4455.59</td>\n",
       "      <td>0.5100</td>\n",
       "      <td>1</td>\n",
       "    </tr>\n",
       "    <tr>\n",
       "      <th>3</th>\n",
       "      <td>2023-07-05</td>\n",
       "      <td>4442.04</td>\n",
       "      <td>4454.06</td>\n",
       "      <td>4436.61</td>\n",
       "      <td>4446.82</td>\n",
       "      <td>0.6980</td>\n",
       "      <td>0</td>\n",
       "    </tr>\n",
       "    <tr>\n",
       "      <th>4</th>\n",
       "      <td>2023-07-06</td>\n",
       "      <td>4422.62</td>\n",
       "      <td>4422.62</td>\n",
       "      <td>4385.05</td>\n",
       "      <td>4411.59</td>\n",
       "      <td>0.4816</td>\n",
       "      <td>0</td>\n",
       "    </tr>\n",
       "    <tr>\n",
       "      <th>5</th>\n",
       "      <td>2023-07-07</td>\n",
       "      <td>4404.54</td>\n",
       "      <td>4440.39</td>\n",
       "      <td>4397.40</td>\n",
       "      <td>4398.95</td>\n",
       "      <td>0.4500</td>\n",
       "      <td>0</td>\n",
       "    </tr>\n",
       "    <tr>\n",
       "      <th>6</th>\n",
       "      <td>2023-07-10</td>\n",
       "      <td>4394.23</td>\n",
       "      <td>4412.60</td>\n",
       "      <td>4389.92</td>\n",
       "      <td>4409.53</td>\n",
       "      <td>0.5300</td>\n",
       "      <td>1</td>\n",
       "    </tr>\n",
       "    <tr>\n",
       "      <th>7</th>\n",
       "      <td>2023-07-11</td>\n",
       "      <td>4415.55</td>\n",
       "      <td>4443.64</td>\n",
       "      <td>4408.46</td>\n",
       "      <td>4439.26</td>\n",
       "      <td>0.4800</td>\n",
       "      <td>1</td>\n",
       "    </tr>\n",
       "    <tr>\n",
       "      <th>8</th>\n",
       "      <td>2023-07-12</td>\n",
       "      <td>4467.69</td>\n",
       "      <td>4488.34</td>\n",
       "      <td>4463.23</td>\n",
       "      <td>4472.16</td>\n",
       "      <td>0.5220</td>\n",
       "      <td>1</td>\n",
       "    </tr>\n",
       "    <tr>\n",
       "      <th>9</th>\n",
       "      <td>2023-07-13</td>\n",
       "      <td>4491.50</td>\n",
       "      <td>4517.38</td>\n",
       "      <td>4489.36</td>\n",
       "      <td>4510.04</td>\n",
       "      <td>0.7100</td>\n",
       "      <td>1</td>\n",
       "    </tr>\n",
       "    <tr>\n",
       "      <th>10</th>\n",
       "      <td>2023-07-14</td>\n",
       "      <td>4514.61</td>\n",
       "      <td>4527.76</td>\n",
       "      <td>4499.56</td>\n",
       "      <td>4505.42</td>\n",
       "      <td>0.6580</td>\n",
       "      <td>0</td>\n",
       "    </tr>\n",
       "    <tr>\n",
       "      <th>11</th>\n",
       "      <td>2023-07-17</td>\n",
       "      <td>4508.86</td>\n",
       "      <td>4532.85</td>\n",
       "      <td>4504.90</td>\n",
       "      <td>4522.79</td>\n",
       "      <td>0.4400</td>\n",
       "      <td>1</td>\n",
       "    </tr>\n",
       "    <tr>\n",
       "      <th>12</th>\n",
       "      <td>2023-07-18</td>\n",
       "      <td>4521.78</td>\n",
       "      <td>4562.30</td>\n",
       "      <td>4514.59</td>\n",
       "      <td>4554.98</td>\n",
       "      <td>0.5680</td>\n",
       "      <td>1</td>\n",
       "    </tr>\n",
       "    <tr>\n",
       "      <th>13</th>\n",
       "      <td>2023-07-19</td>\n",
       "      <td>4563.87</td>\n",
       "      <td>4578.43</td>\n",
       "      <td>4557.48</td>\n",
       "      <td>4565.72</td>\n",
       "      <td>0.5910</td>\n",
       "      <td>1</td>\n",
       "    </tr>\n",
       "    <tr>\n",
       "      <th>14</th>\n",
       "      <td>2023-07-20</td>\n",
       "      <td>4554.38</td>\n",
       "      <td>4564.74</td>\n",
       "      <td>4527.56</td>\n",
       "      <td>4534.87</td>\n",
       "      <td>0.5000</td>\n",
       "      <td>0</td>\n",
       "    </tr>\n",
       "    <tr>\n",
       "      <th>15</th>\n",
       "      <td>2023-07-21</td>\n",
       "      <td>4550.16</td>\n",
       "      <td>4555.00</td>\n",
       "      <td>4535.79</td>\n",
       "      <td>4536.34</td>\n",
       "      <td>0.5530</td>\n",
       "      <td>1</td>\n",
       "    </tr>\n",
       "    <tr>\n",
       "      <th>16</th>\n",
       "      <td>2023-07-24</td>\n",
       "      <td>4543.39</td>\n",
       "      <td>4563.41</td>\n",
       "      <td>4541.29</td>\n",
       "      <td>4554.64</td>\n",
       "      <td>0.5900</td>\n",
       "      <td>1</td>\n",
       "    </tr>\n",
       "    <tr>\n",
       "      <th>17</th>\n",
       "      <td>2023-07-25</td>\n",
       "      <td>4555.19</td>\n",
       "      <td>4580.62</td>\n",
       "      <td>4552.42</td>\n",
       "      <td>4567.46</td>\n",
       "      <td>0.5300</td>\n",
       "      <td>1</td>\n",
       "    </tr>\n",
       "    <tr>\n",
       "      <th>18</th>\n",
       "      <td>2023-07-26</td>\n",
       "      <td>4558.96</td>\n",
       "      <td>4582.47</td>\n",
       "      <td>4547.58</td>\n",
       "      <td>4566.75</td>\n",
       "      <td>0.3875</td>\n",
       "      <td>0</td>\n",
       "    </tr>\n",
       "    <tr>\n",
       "      <th>19</th>\n",
       "      <td>2023-07-27</td>\n",
       "      <td>4598.26</td>\n",
       "      <td>4607.07</td>\n",
       "      <td>4528.56</td>\n",
       "      <td>4537.41</td>\n",
       "      <td>0.7170</td>\n",
       "      <td>0</td>\n",
       "    </tr>\n",
       "    <tr>\n",
       "      <th>20</th>\n",
       "      <td>2023-07-28</td>\n",
       "      <td>4565.75</td>\n",
       "      <td>4590.16</td>\n",
       "      <td>4564.01</td>\n",
       "      <td>4582.23</td>\n",
       "      <td>0.5750</td>\n",
       "      <td>1</td>\n",
       "    </tr>\n",
       "    <tr>\n",
       "      <th>21</th>\n",
       "      <td>2023-07-29</td>\n",
       "      <td>4598.26</td>\n",
       "      <td>4607.07</td>\n",
       "      <td>4528.56</td>\n",
       "      <td>4537.41</td>\n",
       "      <td>0.2950</td>\n",
       "      <td>0</td>\n",
       "    </tr>\n",
       "  </tbody>\n",
       "</table>\n",
       "</div>"
      ],
      "text/plain": [
       "         Date     Open     High      Low   Close*  Avg. Sentiment Score  \\\n",
       "0  2023-06-29  4374.94  4398.39  4371.97  4396.44                0.5940   \n",
       "1  2023-06-30  4422.44  4458.48  4422.44  4450.38                0.6130   \n",
       "2  2023-07-03  4450.48  4456.46  4442.29  4455.59                0.5100   \n",
       "3  2023-07-05  4442.04  4454.06  4436.61  4446.82                0.6980   \n",
       "4  2023-07-06  4422.62  4422.62  4385.05  4411.59                0.4816   \n",
       "5  2023-07-07  4404.54  4440.39  4397.40  4398.95                0.4500   \n",
       "6  2023-07-10  4394.23  4412.60  4389.92  4409.53                0.5300   \n",
       "7  2023-07-11  4415.55  4443.64  4408.46  4439.26                0.4800   \n",
       "8  2023-07-12  4467.69  4488.34  4463.23  4472.16                0.5220   \n",
       "9  2023-07-13  4491.50  4517.38  4489.36  4510.04                0.7100   \n",
       "10 2023-07-14  4514.61  4527.76  4499.56  4505.42                0.6580   \n",
       "11 2023-07-17  4508.86  4532.85  4504.90  4522.79                0.4400   \n",
       "12 2023-07-18  4521.78  4562.30  4514.59  4554.98                0.5680   \n",
       "13 2023-07-19  4563.87  4578.43  4557.48  4565.72                0.5910   \n",
       "14 2023-07-20  4554.38  4564.74  4527.56  4534.87                0.5000   \n",
       "15 2023-07-21  4550.16  4555.00  4535.79  4536.34                0.5530   \n",
       "16 2023-07-24  4543.39  4563.41  4541.29  4554.64                0.5900   \n",
       "17 2023-07-25  4555.19  4580.62  4552.42  4567.46                0.5300   \n",
       "18 2023-07-26  4558.96  4582.47  4547.58  4566.75                0.3875   \n",
       "19 2023-07-27  4598.26  4607.07  4528.56  4537.41                0.7170   \n",
       "20 2023-07-28  4565.75  4590.16  4564.01  4582.23                0.5750   \n",
       "21 2023-07-29  4598.26  4607.07  4528.56  4537.41                0.2950   \n",
       "\n",
       "    Tragectory  \n",
       "0            1  \n",
       "1            1  \n",
       "2            1  \n",
       "3            0  \n",
       "4            0  \n",
       "5            0  \n",
       "6            1  \n",
       "7            1  \n",
       "8            1  \n",
       "9            1  \n",
       "10           0  \n",
       "11           1  \n",
       "12           1  \n",
       "13           1  \n",
       "14           0  \n",
       "15           1  \n",
       "16           1  \n",
       "17           1  \n",
       "18           0  \n",
       "19           0  \n",
       "20           1  \n",
       "21           0  "
      ]
     },
     "execution_count": 1,
     "metadata": {},
     "output_type": "execute_result"
    }
   ],
   "source": [
    "import pandas as pd\n",
    "\n",
    "df = pd.read_excel('/Users/neil/Documents/code/Research-Project/data/stock_data/S&P500_data.xlsx')\n",
    "df"
   ]
  },
  {
   "cell_type": "code",
   "execution_count": 2,
   "metadata": {},
   "outputs": [
    {
     "data": {
      "text/plain": [
       "array([[4.37494e+03, 4.39839e+03, 4.37197e+03, 4.39644e+03, 5.94000e-01],\n",
       "       [4.42244e+03, 4.45848e+03, 4.42244e+03, 4.45038e+03, 6.13000e-01],\n",
       "       [4.45048e+03, 4.45646e+03, 4.44229e+03, 4.45559e+03, 5.10000e-01],\n",
       "       [4.44204e+03, 4.45406e+03, 4.43661e+03, 4.44682e+03, 6.98000e-01],\n",
       "       [4.42262e+03, 4.42262e+03, 4.38505e+03, 4.41159e+03, 4.81600e-01],\n",
       "       [4.40454e+03, 4.44039e+03, 4.39740e+03, 4.39895e+03, 4.50000e-01],\n",
       "       [4.39423e+03, 4.41260e+03, 4.38992e+03, 4.40953e+03, 5.30000e-01],\n",
       "       [4.41555e+03, 4.44364e+03, 4.40846e+03, 4.43926e+03, 4.80000e-01],\n",
       "       [4.46769e+03, 4.48834e+03, 4.46323e+03, 4.47216e+03, 5.22000e-01],\n",
       "       [4.49150e+03, 4.51738e+03, 4.48936e+03, 4.51004e+03, 7.10000e-01],\n",
       "       [4.51461e+03, 4.52776e+03, 4.49956e+03, 4.50542e+03, 6.58000e-01],\n",
       "       [4.50886e+03, 4.53285e+03, 4.50490e+03, 4.52279e+03, 4.40000e-01],\n",
       "       [4.52178e+03, 4.56230e+03, 4.51459e+03, 4.55498e+03, 5.68000e-01],\n",
       "       [4.56387e+03, 4.57843e+03, 4.55748e+03, 4.56572e+03, 5.91000e-01],\n",
       "       [4.55438e+03, 4.56474e+03, 4.52756e+03, 4.53487e+03, 5.00000e-01],\n",
       "       [4.55016e+03, 4.55500e+03, 4.53579e+03, 4.53634e+03, 5.53000e-01],\n",
       "       [4.54339e+03, 4.56341e+03, 4.54129e+03, 4.55464e+03, 5.90000e-01],\n",
       "       [4.55519e+03, 4.58062e+03, 4.55242e+03, 4.56746e+03, 5.30000e-01],\n",
       "       [4.55896e+03, 4.58247e+03, 4.54758e+03, 4.56675e+03, 3.87500e-01],\n",
       "       [4.59826e+03, 4.60707e+03, 4.52856e+03, 4.53741e+03, 7.17000e-01],\n",
       "       [4.56575e+03, 4.59016e+03, 4.56401e+03, 4.58223e+03, 5.75000e-01],\n",
       "       [4.59826e+03, 4.60707e+03, 4.52856e+03, 4.53741e+03, 2.95000e-01]])"
      ]
     },
     "execution_count": 2,
     "metadata": {},
     "output_type": "execute_result"
    }
   ],
   "source": [
    "x = df.iloc[:,1:-1].values\n",
    "x"
   ]
  },
  {
   "cell_type": "code",
   "execution_count": 3,
   "metadata": {},
   "outputs": [],
   "source": [
    "y = df.iloc[:,-1].values"
   ]
  },
  {
   "cell_type": "code",
   "execution_count": 4,
   "metadata": {},
   "outputs": [],
   "source": [
    "from sklearn.model_selection import train_test_split\n",
    "x_train,x_test,y_train,y_test = train_test_split(x,y,test_size=.3,random_state=42)\n"
   ]
  },
  {
   "cell_type": "code",
   "execution_count": 5,
   "metadata": {},
   "outputs": [],
   "source": [
    "from sklearn.preprocessing import StandardScaler\n",
    "sc = StandardScaler()\n",
    "x_train = sc.fit_transform(x_train)"
   ]
  },
  {
   "cell_type": "code",
   "execution_count": 6,
   "metadata": {},
   "outputs": [
    {
     "data": {
      "text/plain": [
       "LogisticRegression(random_state=42)"
      ]
     },
     "execution_count": 6,
     "metadata": {},
     "output_type": "execute_result"
    }
   ],
   "source": [
    "from sklearn.linear_model import LogisticRegression\n",
    "model = LogisticRegression(random_state=42)\n",
    "model"
   ]
  },
  {
   "cell_type": "code",
   "execution_count": 7,
   "metadata": {},
   "outputs": [
    {
     "data": {
      "text/plain": [
       "LogisticRegression(random_state=42)"
      ]
     },
     "execution_count": 7,
     "metadata": {},
     "output_type": "execute_result"
    }
   ],
   "source": [
    "model.fit(x_train,y_train)"
   ]
  },
  {
   "cell_type": "code",
   "execution_count": 8,
   "metadata": {},
   "outputs": [
    {
     "data": {
      "text/plain": [
       "array([1, 1, 1, 1, 1, 0, 1])"
      ]
     },
     "execution_count": 8,
     "metadata": {},
     "output_type": "execute_result"
    }
   ],
   "source": [
    "y_test"
   ]
  },
  {
   "cell_type": "code",
   "execution_count": 9,
   "metadata": {},
   "outputs": [
    {
     "data": {
      "text/plain": [
       "array([1, 1, 1, 1, 0, 1, 1])"
      ]
     },
     "execution_count": 9,
     "metadata": {},
     "output_type": "execute_result"
    }
   ],
   "source": [
    "y_pred = model.predict(sc.transform(x_test))\n",
    "y_pred"
   ]
  },
  {
   "cell_type": "code",
   "execution_count": 10,
   "metadata": {},
   "outputs": [
    {
     "data": {
      "text/plain": [
       "array([[0, 1],\n",
       "       [1, 5]])"
      ]
     },
     "execution_count": 10,
     "metadata": {},
     "output_type": "execute_result"
    }
   ],
   "source": [
    "from sklearn.metrics import confusion_matrix\n",
    "confusion_matrix(y_test,y_pred) \n"
   ]
  },
  {
   "cell_type": "code",
   "execution_count": 11,
   "metadata": {},
   "outputs": [
    {
     "data": {
      "text/plain": [
       "0.7142857142857143"
      ]
     },
     "execution_count": 11,
     "metadata": {},
     "output_type": "execute_result"
    }
   ],
   "source": [
    "from sklearn.metrics import accuracy_score\n",
    "accuracy_score(y_test,y_pred)"
   ]
  },
  {
   "cell_type": "code",
   "execution_count": 12,
   "metadata": {},
   "outputs": [],
   "source": [
    "#import pickle\n",
    "\n",
    "# save the iris classification model as a pickle file\n",
    "#model_pkl_file = \"LogisticRegression.pkl\"  \n",
    "\n",
    "#with open(model_pkl_file, 'wb') as file:  \n",
    "#    pickle.dump(model, file)"
   ]
  },
  {
   "cell_type": "code",
   "execution_count": 13,
   "metadata": {},
   "outputs": [],
   "source": [
    "#import pickle\n",
    "#from sklearn.metrics import classification_report\n",
    "#with open(model_pkl_file, 'rb') as file:  \n",
    " #   model = pickle.load(file)\n",
    "\n",
    "\n",
    "\n",
    "# check results\n",
    "#print(classification_report(y_test, y_pred)) "
   ]
  },
  {
   "cell_type": "code",
   "execution_count": 14,
   "metadata": {},
   "outputs": [
    {
     "data": {
      "image/png": "[encoded data removed]",
      "text/plain": [
       "<Figure size 720x576 with 2 Axes>"
      ]
     },
     "metadata": {
      "needs_background": "light"
     },
     "output_type": "display_data"
    }
   ],
   "source": [
    "# Correlation map \n",
    "import matplotlib.pyplot as plt\n",
    "import seaborn as sns\n",
    "correlation_matrix = df.corr()\n",
    "\n",
    "plt.figure(figsize=(10, 8))\n",
    "sns.heatmap(correlation_matrix, annot=True, cmap='coolwarm', center=0)\n",
    "plt.title('Correlation Heatmap')\n",
    "plt.show()"
   ]
  }
 ],
 "metadata": {
  "kernelspec": {
   "display_name": "venv",
   "language": "python",
   "name": "python3"
  },
  "language_info": {
   "codemirror_mode": {
    "name": "ipython",
    "version": 3
   },
   "file_extension": ".py",
   "mimetype": "text/x-python",
   "name": "python",
   "nbconvert_exporter": "python",
   "pygments_lexer": "ipython3",
   "version": "3.9.7"
  },
  "orig_nbformat": 4
 },
 "nbformat": 4,
 "nbformat_minor": 2
}
