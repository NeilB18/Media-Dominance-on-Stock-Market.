{
 "cells": [
  {
   "cell_type": "markdown",
   "metadata": {},
   "source": [
    "Data Pre-processing "
   ]
  },
  {
   "cell_type": "code",
   "execution_count": 1,
   "metadata": {},
   "outputs": [
    {
     "data": {
      "text/html": [
       "<div>\n",
       "<style scoped>\n",
       "    .dataframe tbody tr th:only-of-type {\n",
       "        vertical-align: middle;\n",
       "    }\n",
       "\n",
       "    .dataframe tbody tr th {\n",
       "        vertical-align: top;\n",
       "    }\n",
       "\n",
       "    .dataframe thead th {\n",
       "        text-align: right;\n",
       "    }\n",
       "</style>\n",
       "<table border=\"1\" class=\"dataframe\">\n",
       "  <thead>\n",
       "    <tr style=\"text-align: right;\">\n",
       "      <th></th>\n",
       "      <th>Date</th>\n",
       "      <th>Open</th>\n",
       "      <th>High</th>\n",
       "      <th>Low</th>\n",
       "      <th>Close*</th>\n",
       "      <th>Avg. Stock Price</th>\n",
       "      <th>Avg. Sentiment Score</th>\n",
       "      <th>Up / Down</th>\n",
       "    </tr>\n",
       "  </thead>\n",
       "  <tbody>\n",
       "    <tr>\n",
       "      <th>0</th>\n",
       "      <td>2023-06-29</td>\n",
       "      <td>4374.94</td>\n",
       "      <td>4398.39</td>\n",
       "      <td>4371.97</td>\n",
       "      <td>4396.44</td>\n",
       "      <td>4385.4350</td>\n",
       "      <td>0.5940</td>\n",
       "      <td>1</td>\n",
       "    </tr>\n",
       "    <tr>\n",
       "      <th>1</th>\n",
       "      <td>2023-06-30</td>\n",
       "      <td>4422.44</td>\n",
       "      <td>4458.48</td>\n",
       "      <td>4422.44</td>\n",
       "      <td>4450.38</td>\n",
       "      <td>4438.4350</td>\n",
       "      <td>0.6130</td>\n",
       "      <td>1</td>\n",
       "    </tr>\n",
       "    <tr>\n",
       "      <th>2</th>\n",
       "      <td>2023-07-03</td>\n",
       "      <td>4450.48</td>\n",
       "      <td>4456.46</td>\n",
       "      <td>4442.29</td>\n",
       "      <td>4455.59</td>\n",
       "      <td>4451.2050</td>\n",
       "      <td>0.5010</td>\n",
       "      <td>1</td>\n",
       "    </tr>\n",
       "    <tr>\n",
       "      <th>3</th>\n",
       "      <td>2023-07-05</td>\n",
       "      <td>4442.04</td>\n",
       "      <td>4454.06</td>\n",
       "      <td>4436.61</td>\n",
       "      <td>4446.82</td>\n",
       "      <td>4444.8825</td>\n",
       "      <td>0.6980</td>\n",
       "      <td>0</td>\n",
       "    </tr>\n",
       "    <tr>\n",
       "      <th>4</th>\n",
       "      <td>2023-07-06</td>\n",
       "      <td>4422.62</td>\n",
       "      <td>4422.62</td>\n",
       "      <td>4385.05</td>\n",
       "      <td>4411.59</td>\n",
       "      <td>4410.4700</td>\n",
       "      <td>0.4816</td>\n",
       "      <td>0</td>\n",
       "    </tr>\n",
       "    <tr>\n",
       "      <th>5</th>\n",
       "      <td>2023-07-07</td>\n",
       "      <td>4404.54</td>\n",
       "      <td>4440.39</td>\n",
       "      <td>4397.40</td>\n",
       "      <td>4398.95</td>\n",
       "      <td>4410.3200</td>\n",
       "      <td>0.4500</td>\n",
       "      <td>0</td>\n",
       "    </tr>\n",
       "    <tr>\n",
       "      <th>6</th>\n",
       "      <td>2023-07-10</td>\n",
       "      <td>4394.23</td>\n",
       "      <td>4412.60</td>\n",
       "      <td>4389.92</td>\n",
       "      <td>4409.53</td>\n",
       "      <td>4401.5700</td>\n",
       "      <td>0.3550</td>\n",
       "      <td>0</td>\n",
       "    </tr>\n",
       "    <tr>\n",
       "      <th>7</th>\n",
       "      <td>2023-07-11</td>\n",
       "      <td>4415.55</td>\n",
       "      <td>4443.64</td>\n",
       "      <td>4408.46</td>\n",
       "      <td>4439.26</td>\n",
       "      <td>4426.7275</td>\n",
       "      <td>0.4800</td>\n",
       "      <td>1</td>\n",
       "    </tr>\n",
       "    <tr>\n",
       "      <th>8</th>\n",
       "      <td>2023-07-12</td>\n",
       "      <td>4467.69</td>\n",
       "      <td>4488.34</td>\n",
       "      <td>4463.23</td>\n",
       "      <td>4472.16</td>\n",
       "      <td>4472.8550</td>\n",
       "      <td>0.5220</td>\n",
       "      <td>1</td>\n",
       "    </tr>\n",
       "    <tr>\n",
       "      <th>9</th>\n",
       "      <td>2023-07-13</td>\n",
       "      <td>4491.50</td>\n",
       "      <td>4517.38</td>\n",
       "      <td>4489.36</td>\n",
       "      <td>4510.04</td>\n",
       "      <td>4502.0700</td>\n",
       "      <td>0.7100</td>\n",
       "      <td>1</td>\n",
       "    </tr>\n",
       "    <tr>\n",
       "      <th>10</th>\n",
       "      <td>2023-07-14</td>\n",
       "      <td>4514.61</td>\n",
       "      <td>4527.76</td>\n",
       "      <td>4499.56</td>\n",
       "      <td>4505.42</td>\n",
       "      <td>4511.8375</td>\n",
       "      <td>0.6580</td>\n",
       "      <td>1</td>\n",
       "    </tr>\n",
       "    <tr>\n",
       "      <th>11</th>\n",
       "      <td>2023-07-17</td>\n",
       "      <td>4508.86</td>\n",
       "      <td>4532.85</td>\n",
       "      <td>4504.90</td>\n",
       "      <td>4522.79</td>\n",
       "      <td>4517.3500</td>\n",
       "      <td>0.3540</td>\n",
       "      <td>1</td>\n",
       "    </tr>\n",
       "    <tr>\n",
       "      <th>12</th>\n",
       "      <td>2023-07-18</td>\n",
       "      <td>4521.78</td>\n",
       "      <td>4562.30</td>\n",
       "      <td>4514.59</td>\n",
       "      <td>4554.98</td>\n",
       "      <td>4538.4125</td>\n",
       "      <td>0.5680</td>\n",
       "      <td>1</td>\n",
       "    </tr>\n",
       "    <tr>\n",
       "      <th>13</th>\n",
       "      <td>2023-07-19</td>\n",
       "      <td>4563.87</td>\n",
       "      <td>4578.43</td>\n",
       "      <td>4557.48</td>\n",
       "      <td>4565.72</td>\n",
       "      <td>4566.3750</td>\n",
       "      <td>0.5910</td>\n",
       "      <td>1</td>\n",
       "    </tr>\n",
       "    <tr>\n",
       "      <th>14</th>\n",
       "      <td>2023-07-20</td>\n",
       "      <td>4554.38</td>\n",
       "      <td>4564.74</td>\n",
       "      <td>4527.56</td>\n",
       "      <td>4534.87</td>\n",
       "      <td>4545.3875</td>\n",
       "      <td>0.5000</td>\n",
       "      <td>0</td>\n",
       "    </tr>\n",
       "    <tr>\n",
       "      <th>15</th>\n",
       "      <td>2023-07-21</td>\n",
       "      <td>4550.16</td>\n",
       "      <td>4555.00</td>\n",
       "      <td>4535.79</td>\n",
       "      <td>4536.34</td>\n",
       "      <td>4544.3225</td>\n",
       "      <td>0.5530</td>\n",
       "      <td>0</td>\n",
       "    </tr>\n",
       "    <tr>\n",
       "      <th>16</th>\n",
       "      <td>2023-07-24</td>\n",
       "      <td>4543.39</td>\n",
       "      <td>4563.41</td>\n",
       "      <td>4541.29</td>\n",
       "      <td>4554.64</td>\n",
       "      <td>4550.6825</td>\n",
       "      <td>0.6300</td>\n",
       "      <td>1</td>\n",
       "    </tr>\n",
       "    <tr>\n",
       "      <th>17</th>\n",
       "      <td>2023-07-25</td>\n",
       "      <td>4555.19</td>\n",
       "      <td>4580.62</td>\n",
       "      <td>4552.42</td>\n",
       "      <td>4567.46</td>\n",
       "      <td>4563.9225</td>\n",
       "      <td>0.5300</td>\n",
       "      <td>1</td>\n",
       "    </tr>\n",
       "    <tr>\n",
       "      <th>18</th>\n",
       "      <td>2023-07-26</td>\n",
       "      <td>4558.96</td>\n",
       "      <td>4582.47</td>\n",
       "      <td>4547.58</td>\n",
       "      <td>4566.75</td>\n",
       "      <td>4563.9400</td>\n",
       "      <td>0.3875</td>\n",
       "      <td>1</td>\n",
       "    </tr>\n",
       "    <tr>\n",
       "      <th>19</th>\n",
       "      <td>2023-07-27</td>\n",
       "      <td>4598.26</td>\n",
       "      <td>4607.07</td>\n",
       "      <td>4528.56</td>\n",
       "      <td>4537.41</td>\n",
       "      <td>4567.8250</td>\n",
       "      <td>0.7170</td>\n",
       "      <td>1</td>\n",
       "    </tr>\n",
       "    <tr>\n",
       "      <th>20</th>\n",
       "      <td>2023-07-28</td>\n",
       "      <td>4565.75</td>\n",
       "      <td>4590.16</td>\n",
       "      <td>4564.01</td>\n",
       "      <td>4582.23</td>\n",
       "      <td>4575.5375</td>\n",
       "      <td>0.5750</td>\n",
       "      <td>1</td>\n",
       "    </tr>\n",
       "    <tr>\n",
       "      <th>21</th>\n",
       "      <td>2023-07-29</td>\n",
       "      <td>4598.26</td>\n",
       "      <td>4607.07</td>\n",
       "      <td>4528.56</td>\n",
       "      <td>4537.41</td>\n",
       "      <td>4567.8250</td>\n",
       "      <td>0.2950</td>\n",
       "      <td>0</td>\n",
       "    </tr>\n",
       "  </tbody>\n",
       "</table>\n",
       "</div>"
      ],
      "text/plain": [
       "         Date     Open     High      Low   Close*  Avg. Stock Price  \\\n",
       "0  2023-06-29  4374.94  4398.39  4371.97  4396.44         4385.4350   \n",
       "1  2023-06-30  4422.44  4458.48  4422.44  4450.38         4438.4350   \n",
       "2  2023-07-03  4450.48  4456.46  4442.29  4455.59         4451.2050   \n",
       "3  2023-07-05  4442.04  4454.06  4436.61  4446.82         4444.8825   \n",
       "4  2023-07-06  4422.62  4422.62  4385.05  4411.59         4410.4700   \n",
       "5  2023-07-07  4404.54  4440.39  4397.40  4398.95         4410.3200   \n",
       "6  2023-07-10  4394.23  4412.60  4389.92  4409.53         4401.5700   \n",
       "7  2023-07-11  4415.55  4443.64  4408.46  4439.26         4426.7275   \n",
       "8  2023-07-12  4467.69  4488.34  4463.23  4472.16         4472.8550   \n",
       "9  2023-07-13  4491.50  4517.38  4489.36  4510.04         4502.0700   \n",
       "10 2023-07-14  4514.61  4527.76  4499.56  4505.42         4511.8375   \n",
       "11 2023-07-17  4508.86  4532.85  4504.90  4522.79         4517.3500   \n",
       "12 2023-07-18  4521.78  4562.30  4514.59  4554.98         4538.4125   \n",
       "13 2023-07-19  4563.87  4578.43  4557.48  4565.72         4566.3750   \n",
       "14 2023-07-20  4554.38  4564.74  4527.56  4534.87         4545.3875   \n",
       "15 2023-07-21  4550.16  4555.00  4535.79  4536.34         4544.3225   \n",
       "16 2023-07-24  4543.39  4563.41  4541.29  4554.64         4550.6825   \n",
       "17 2023-07-25  4555.19  4580.62  4552.42  4567.46         4563.9225   \n",
       "18 2023-07-26  4558.96  4582.47  4547.58  4566.75         4563.9400   \n",
       "19 2023-07-27  4598.26  4607.07  4528.56  4537.41         4567.8250   \n",
       "20 2023-07-28  4565.75  4590.16  4564.01  4582.23         4575.5375   \n",
       "21 2023-07-29  4598.26  4607.07  4528.56  4537.41         4567.8250   \n",
       "\n",
       "    Avg. Sentiment Score  Up / Down  \n",
       "0                 0.5940          1  \n",
       "1                 0.6130          1  \n",
       "2                 0.5010          1  \n",
       "3                 0.6980          0  \n",
       "4                 0.4816          0  \n",
       "5                 0.4500          0  \n",
       "6                 0.3550          0  \n",
       "7                 0.4800          1  \n",
       "8                 0.5220          1  \n",
       "9                 0.7100          1  \n",
       "10                0.6580          1  \n",
       "11                0.3540          1  \n",
       "12                0.5680          1  \n",
       "13                0.5910          1  \n",
       "14                0.5000          0  \n",
       "15                0.5530          0  \n",
       "16                0.6300          1  \n",
       "17                0.5300          1  \n",
       "18                0.3875          1  \n",
       "19                0.7170          1  \n",
       "20                0.5750          1  \n",
       "21                0.2950          0  "
      ]
     },
     "execution_count": 1,
     "metadata": {},
     "output_type": "execute_result"
    }
   ],
   "source": [
    "import pandas as pd\n",
    "\n",
    "df = pd.read_excel('/Users/neil/Documents/code/Research-Project/data/stock_data/S&P500_data.xlsx')\n",
    "df"
   ]
  },
  {
   "cell_type": "code",
   "execution_count": 2,
   "metadata": {},
   "outputs": [
    {
     "data": {
      "text/plain": [
       "array([[4.3749400e+03, 4.3983900e+03, 4.3719700e+03, 4.3964400e+03,\n",
       "        4.3854350e+03, 5.9400000e-01],\n",
       "       [4.4224400e+03, 4.4584800e+03, 4.4224400e+03, 4.4503800e+03,\n",
       "        4.4384350e+03, 6.1300000e-01],\n",
       "       [4.4504800e+03, 4.4564600e+03, 4.4422900e+03, 4.4555900e+03,\n",
       "        4.4512050e+03, 5.0100000e-01],\n",
       "       [4.4420400e+03, 4.4540600e+03, 4.4366100e+03, 4.4468200e+03,\n",
       "        4.4448825e+03, 6.9800000e-01],\n",
       "       [4.4226200e+03, 4.4226200e+03, 4.3850500e+03, 4.4115900e+03,\n",
       "        4.4104700e+03, 4.8160000e-01],\n",
       "       [4.4045400e+03, 4.4403900e+03, 4.3974000e+03, 4.3989500e+03,\n",
       "        4.4103200e+03, 4.5000000e-01],\n",
       "       [4.3942300e+03, 4.4126000e+03, 4.3899200e+03, 4.4095300e+03,\n",
       "        4.4015700e+03, 3.5500000e-01],\n",
       "       [4.4155500e+03, 4.4436400e+03, 4.4084600e+03, 4.4392600e+03,\n",
       "        4.4267275e+03, 4.8000000e-01],\n",
       "       [4.4676900e+03, 4.4883400e+03, 4.4632300e+03, 4.4721600e+03,\n",
       "        4.4728550e+03, 5.2200000e-01],\n",
       "       [4.4915000e+03, 4.5173800e+03, 4.4893600e+03, 4.5100400e+03,\n",
       "        4.5020700e+03, 7.1000000e-01],\n",
       "       [4.5146100e+03, 4.5277600e+03, 4.4995600e+03, 4.5054200e+03,\n",
       "        4.5118375e+03, 6.5800000e-01],\n",
       "       [4.5088600e+03, 4.5328500e+03, 4.5049000e+03, 4.5227900e+03,\n",
       "        4.5173500e+03, 3.5400000e-01],\n",
       "       [4.5217800e+03, 4.5623000e+03, 4.5145900e+03, 4.5549800e+03,\n",
       "        4.5384125e+03, 5.6800000e-01],\n",
       "       [4.5638700e+03, 4.5784300e+03, 4.5574800e+03, 4.5657200e+03,\n",
       "        4.5663750e+03, 5.9100000e-01],\n",
       "       [4.5543800e+03, 4.5647400e+03, 4.5275600e+03, 4.5348700e+03,\n",
       "        4.5453875e+03, 5.0000000e-01],\n",
       "       [4.5501600e+03, 4.5550000e+03, 4.5357900e+03, 4.5363400e+03,\n",
       "        4.5443225e+03, 5.5300000e-01],\n",
       "       [4.5433900e+03, 4.5634100e+03, 4.5412900e+03, 4.5546400e+03,\n",
       "        4.5506825e+03, 6.3000000e-01],\n",
       "       [4.5551900e+03, 4.5806200e+03, 4.5524200e+03, 4.5674600e+03,\n",
       "        4.5639225e+03, 5.3000000e-01],\n",
       "       [4.5589600e+03, 4.5824700e+03, 4.5475800e+03, 4.5667500e+03,\n",
       "        4.5639400e+03, 3.8750000e-01],\n",
       "       [4.5982600e+03, 4.6070700e+03, 4.5285600e+03, 4.5374100e+03,\n",
       "        4.5678250e+03, 7.1700000e-01],\n",
       "       [4.5657500e+03, 4.5901600e+03, 4.5640100e+03, 4.5822300e+03,\n",
       "        4.5755375e+03, 5.7500000e-01],\n",
       "       [4.5982600e+03, 4.6070700e+03, 4.5285600e+03, 4.5374100e+03,\n",
       "        4.5678250e+03, 2.9500000e-01]])"
      ]
     },
     "execution_count": 2,
     "metadata": {},
     "output_type": "execute_result"
    }
   ],
   "source": [
    "x = df.iloc[:,1:-1].values\n",
    "x"
   ]
  },
  {
   "cell_type": "code",
   "execution_count": 3,
   "metadata": {},
   "outputs": [],
   "source": [
    "y = df.iloc[:,-1].values"
   ]
  },
  {
   "cell_type": "code",
   "execution_count": 4,
   "metadata": {},
   "outputs": [],
   "source": [
    "from sklearn.model_selection import train_test_split\n",
    "x_train,x_test,y_train,y_test = train_test_split(x,y,test_size=.3,random_state=25)\n"
   ]
  },
  {
   "cell_type": "code",
   "execution_count": 5,
   "metadata": {},
   "outputs": [],
   "source": [
    "from sklearn.preprocessing import StandardScaler\n",
    "sc = StandardScaler()\n",
    "x_train = sc.fit_transform(x_train)"
   ]
  },
  {
   "cell_type": "code",
   "execution_count": 6,
   "metadata": {},
   "outputs": [
    {
     "data": {
      "text/html": [
       "<style>#sk-container-id-1 {color: black;}#sk-container-id-1 pre{padding: 0;}#sk-container-id-1 div.sk-toggleable {background-color: white;}#sk-container-id-1 label.sk-toggleable__label {cursor: pointer;display: block;width: 100%;margin-bottom: 0;padding: 0.3em;box-sizing: border-box;text-align: center;}#sk-container-id-1 label.sk-toggleable__label-arrow:before {content: \"▸\";float: left;margin-right: 0.25em;color: #696969;}#sk-container-id-1 label.sk-toggleable__label-arrow:hover:before {color: black;}#sk-container-id-1 div.sk-estimator:hover label.sk-toggleable__label-arrow:before {color: black;}#sk-container-id-1 div.sk-toggleable__content {max-height: 0;max-width: 0;overflow: hidden;text-align: left;background-color: #f0f8ff;}#sk-container-id-1 div.sk-toggleable__content pre {margin: 0.2em;color: black;border-radius: 0.25em;background-color: #f0f8ff;}#sk-container-id-1 input.sk-toggleable__control:checked~div.sk-toggleable__content {max-height: 200px;max-width: 100%;overflow: auto;}#sk-container-id-1 input.sk-toggleable__control:checked~label.sk-toggleable__label-arrow:before {content: \"▾\";}#sk-container-id-1 div.sk-estimator input.sk-toggleable__control:checked~label.sk-toggleable__label {background-color: #d4ebff;}#sk-container-id-1 div.sk-label input.sk-toggleable__control:checked~label.sk-toggleable__label {background-color: #d4ebff;}#sk-container-id-1 input.sk-hidden--visually {border: 0;clip: rect(1px 1px 1px 1px);clip: rect(1px, 1px, 1px, 1px);height: 1px;margin: -1px;overflow: hidden;padding: 0;position: absolute;width: 1px;}#sk-container-id-1 div.sk-estimator {font-family: monospace;background-color: #f0f8ff;border: 1px dotted black;border-radius: 0.25em;box-sizing: border-box;margin-bottom: 0.5em;}#sk-container-id-1 div.sk-estimator:hover {background-color: #d4ebff;}#sk-container-id-1 div.sk-parallel-item::after {content: \"\";width: 100%;border-bottom: 1px solid gray;flex-grow: 1;}#sk-container-id-1 div.sk-label:hover label.sk-toggleable__label {background-color: #d4ebff;}#sk-container-id-1 div.sk-serial::before {content: \"\";position: absolute;border-left: 1px solid gray;box-sizing: border-box;top: 0;bottom: 0;left: 50%;z-index: 0;}#sk-container-id-1 div.sk-serial {display: flex;flex-direction: column;align-items: center;background-color: white;padding-right: 0.2em;padding-left: 0.2em;position: relative;}#sk-container-id-1 div.sk-item {position: relative;z-index: 1;}#sk-container-id-1 div.sk-parallel {display: flex;align-items: stretch;justify-content: center;background-color: white;position: relative;}#sk-container-id-1 div.sk-item::before, #sk-container-id-1 div.sk-parallel-item::before {content: \"\";position: absolute;border-left: 1px solid gray;box-sizing: border-box;top: 0;bottom: 0;left: 50%;z-index: -1;}#sk-container-id-1 div.sk-parallel-item {display: flex;flex-direction: column;z-index: 1;position: relative;background-color: white;}#sk-container-id-1 div.sk-parallel-item:first-child::after {align-self: flex-end;width: 50%;}#sk-container-id-1 div.sk-parallel-item:last-child::after {align-self: flex-start;width: 50%;}#sk-container-id-1 div.sk-parallel-item:only-child::after {width: 0;}#sk-container-id-1 div.sk-dashed-wrapped {border: 1px dashed gray;margin: 0 0.4em 0.5em 0.4em;box-sizing: border-box;padding-bottom: 0.4em;background-color: white;}#sk-container-id-1 div.sk-label label {font-family: monospace;font-weight: bold;display: inline-block;line-height: 1.2em;}#sk-container-id-1 div.sk-label-container {text-align: center;}#sk-container-id-1 div.sk-container {/* jupyter's `normalize.less` sets `[hidden] { display: none; }` but bootstrap.min.css set `[hidden] { display: none !important; }` so we also need the `!important` here to be able to override the default hidden behavior on the sphinx rendered scikit-learn.org. See: https://github.com/scikit-learn/scikit-learn/issues/21755 */display: inline-block !important;position: relative;}#sk-container-id-1 div.sk-text-repr-fallback {display: none;}</style><div id=\"sk-container-id-1\" class=\"sk-top-container\"><div class=\"sk-text-repr-fallback\"><pre>LogisticRegression(random_state=25)</pre><b>In a Jupyter environment, please rerun this cell to show the HTML representation or trust the notebook. <br />On GitHub, the HTML representation is unable to render, please try loading this page with nbviewer.org.</b></div><div class=\"sk-container\" hidden><div class=\"sk-item\"><div class=\"sk-estimator sk-toggleable\"><input class=\"sk-toggleable__control sk-hidden--visually\" id=\"sk-estimator-id-1\" type=\"checkbox\" checked><label for=\"sk-estimator-id-1\" class=\"sk-toggleable__label sk-toggleable__label-arrow\">LogisticRegression</label><div class=\"sk-toggleable__content\"><pre>LogisticRegression(random_state=25)</pre></div></div></div></div></div>"
      ],
      "text/plain": [
       "LogisticRegression(random_state=25)"
      ]
     },
     "execution_count": 6,
     "metadata": {},
     "output_type": "execute_result"
    }
   ],
   "source": [
    "from sklearn.linear_model import LogisticRegression\n",
    "model = LogisticRegression(random_state=25)\n",
    "model"
   ]
  },
  {
   "cell_type": "code",
   "execution_count": 7,
   "metadata": {},
   "outputs": [
    {
     "data": {
      "text/html": [
       "<style>#sk-container-id-2 {color: black;}#sk-container-id-2 pre{padding: 0;}#sk-container-id-2 div.sk-toggleable {background-color: white;}#sk-container-id-2 label.sk-toggleable__label {cursor: pointer;display: block;width: 100%;margin-bottom: 0;padding: 0.3em;box-sizing: border-box;text-align: center;}#sk-container-id-2 label.sk-toggleable__label-arrow:before {content: \"▸\";float: left;margin-right: 0.25em;color: #696969;}#sk-container-id-2 label.sk-toggleable__label-arrow:hover:before {color: black;}#sk-container-id-2 div.sk-estimator:hover label.sk-toggleable__label-arrow:before {color: black;}#sk-container-id-2 div.sk-toggleable__content {max-height: 0;max-width: 0;overflow: hidden;text-align: left;background-color: #f0f8ff;}#sk-container-id-2 div.sk-toggleable__content pre {margin: 0.2em;color: black;border-radius: 0.25em;background-color: #f0f8ff;}#sk-container-id-2 input.sk-toggleable__control:checked~div.sk-toggleable__content {max-height: 200px;max-width: 100%;overflow: auto;}#sk-container-id-2 input.sk-toggleable__control:checked~label.sk-toggleable__label-arrow:before {content: \"▾\";}#sk-container-id-2 div.sk-estimator input.sk-toggleable__control:checked~label.sk-toggleable__label {background-color: #d4ebff;}#sk-container-id-2 div.sk-label input.sk-toggleable__control:checked~label.sk-toggleable__label {background-color: #d4ebff;}#sk-container-id-2 input.sk-hidden--visually {border: 0;clip: rect(1px 1px 1px 1px);clip: rect(1px, 1px, 1px, 1px);height: 1px;margin: -1px;overflow: hidden;padding: 0;position: absolute;width: 1px;}#sk-container-id-2 div.sk-estimator {font-family: monospace;background-color: #f0f8ff;border: 1px dotted black;border-radius: 0.25em;box-sizing: border-box;margin-bottom: 0.5em;}#sk-container-id-2 div.sk-estimator:hover {background-color: #d4ebff;}#sk-container-id-2 div.sk-parallel-item::after {content: \"\";width: 100%;border-bottom: 1px solid gray;flex-grow: 1;}#sk-container-id-2 div.sk-label:hover label.sk-toggleable__label {background-color: #d4ebff;}#sk-container-id-2 div.sk-serial::before {content: \"\";position: absolute;border-left: 1px solid gray;box-sizing: border-box;top: 0;bottom: 0;left: 50%;z-index: 0;}#sk-container-id-2 div.sk-serial {display: flex;flex-direction: column;align-items: center;background-color: white;padding-right: 0.2em;padding-left: 0.2em;position: relative;}#sk-container-id-2 div.sk-item {position: relative;z-index: 1;}#sk-container-id-2 div.sk-parallel {display: flex;align-items: stretch;justify-content: center;background-color: white;position: relative;}#sk-container-id-2 div.sk-item::before, #sk-container-id-2 div.sk-parallel-item::before {content: \"\";position: absolute;border-left: 1px solid gray;box-sizing: border-box;top: 0;bottom: 0;left: 50%;z-index: -1;}#sk-container-id-2 div.sk-parallel-item {display: flex;flex-direction: column;z-index: 1;position: relative;background-color: white;}#sk-container-id-2 div.sk-parallel-item:first-child::after {align-self: flex-end;width: 50%;}#sk-container-id-2 div.sk-parallel-item:last-child::after {align-self: flex-start;width: 50%;}#sk-container-id-2 div.sk-parallel-item:only-child::after {width: 0;}#sk-container-id-2 div.sk-dashed-wrapped {border: 1px dashed gray;margin: 0 0.4em 0.5em 0.4em;box-sizing: border-box;padding-bottom: 0.4em;background-color: white;}#sk-container-id-2 div.sk-label label {font-family: monospace;font-weight: bold;display: inline-block;line-height: 1.2em;}#sk-container-id-2 div.sk-label-container {text-align: center;}#sk-container-id-2 div.sk-container {/* jupyter's `normalize.less` sets `[hidden] { display: none; }` but bootstrap.min.css set `[hidden] { display: none !important; }` so we also need the `!important` here to be able to override the default hidden behavior on the sphinx rendered scikit-learn.org. See: https://github.com/scikit-learn/scikit-learn/issues/21755 */display: inline-block !important;position: relative;}#sk-container-id-2 div.sk-text-repr-fallback {display: none;}</style><div id=\"sk-container-id-2\" class=\"sk-top-container\"><div class=\"sk-text-repr-fallback\"><pre>LogisticRegression(random_state=25)</pre><b>In a Jupyter environment, please rerun this cell to show the HTML representation or trust the notebook. <br />On GitHub, the HTML representation is unable to render, please try loading this page with nbviewer.org.</b></div><div class=\"sk-container\" hidden><div class=\"sk-item\"><div class=\"sk-estimator sk-toggleable\"><input class=\"sk-toggleable__control sk-hidden--visually\" id=\"sk-estimator-id-2\" type=\"checkbox\" checked><label for=\"sk-estimator-id-2\" class=\"sk-toggleable__label sk-toggleable__label-arrow\">LogisticRegression</label><div class=\"sk-toggleable__content\"><pre>LogisticRegression(random_state=25)</pre></div></div></div></div></div>"
      ],
      "text/plain": [
       "LogisticRegression(random_state=25)"
      ]
     },
     "execution_count": 7,
     "metadata": {},
     "output_type": "execute_result"
    }
   ],
   "source": [
    "model.fit(x_train,y_train)"
   ]
  },
  {
   "cell_type": "code",
   "execution_count": 8,
   "metadata": {},
   "outputs": [
    {
     "data": {
      "text/plain": [
       "array([1, 1, 1, 1, 0, 0, 1])"
      ]
     },
     "execution_count": 8,
     "metadata": {},
     "output_type": "execute_result"
    }
   ],
   "source": [
    "y_test"
   ]
  },
  {
   "cell_type": "code",
   "execution_count": 9,
   "metadata": {},
   "outputs": [
    {
     "data": {
      "text/plain": [
       "array([0, 1, 1, 1, 0, 1, 1])"
      ]
     },
     "execution_count": 9,
     "metadata": {},
     "output_type": "execute_result"
    }
   ],
   "source": [
    "y_pred = model.predict(sc.transform(x_test))\n",
    "y_pred"
   ]
  },
  {
   "cell_type": "code",
   "execution_count": 10,
   "metadata": {},
   "outputs": [
    {
     "data": {
      "text/plain": [
       "array([[1, 1],\n",
       "       [1, 4]])"
      ]
     },
     "execution_count": 10,
     "metadata": {},
     "output_type": "execute_result"
    }
   ],
   "source": [
    "from sklearn.metrics import confusion_matrix\n",
    "confusion_matrix(y_test,y_pred)"
   ]
  },
  {
   "cell_type": "code",
   "execution_count": 11,
   "metadata": {},
   "outputs": [
    {
     "data": {
      "text/plain": [
       "0.7142857142857143"
      ]
     },
     "execution_count": 11,
     "metadata": {},
     "output_type": "execute_result"
    }
   ],
   "source": [
    "from sklearn.metrics import accuracy_score\n",
    "accuracy_score(y_test,y_pred)"
   ]
  },
  {
   "cell_type": "code",
   "execution_count": 12,
   "metadata": {},
   "outputs": [],
   "source": [
    "#import pickle\n",
    "\n",
    "# save the iris classification model as a pickle file\n",
    "#model_pkl_file = \"LogisticRegression.pkl\"  \n",
    "\n",
    "#with open(model_pkl_file, 'wb') as file:  \n",
    "#    pickle.dump(model, file)"
   ]
  },
  {
   "cell_type": "code",
   "execution_count": 14,
   "metadata": {},
   "outputs": [],
   "source": [
    "#import pickle\n",
    "#from sklearn.metrics import classification_report\n",
    "#with open(model_pkl_file, 'rb') as file:  \n",
    " #   model = pickle.load(file)\n",
    "\n",
    "\n",
    "\n",
    "# check results\n",
    "#print(classification_report(y_test, y_pred)) "
   ]
  }
 ],
 "metadata": {
  "kernelspec": {
   "display_name": "venv",
   "language": "python",
   "name": "python3"
  },
  "language_info": {
   "codemirror_mode": {
    "name": "ipython",
    "version": 3
   },
   "file_extension": ".py",
   "mimetype": "text/x-python",
   "name": "python",
   "nbconvert_exporter": "python",
   "pygments_lexer": "ipython3",
   "version": "3.10.9"
  },
  "orig_nbformat": 4
 },
 "nbformat": 4,
 "nbformat_minor": 2
}
