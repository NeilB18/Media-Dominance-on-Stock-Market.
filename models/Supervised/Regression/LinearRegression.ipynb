{
 "cells": [
  {
   "cell_type": "code",
   "execution_count": 141,
   "metadata": {},
   "outputs": [
    {
     "data": {
      "text/html": [
       "<div>\n",
       "<style scoped>\n",
       "    .dataframe tbody tr th:only-of-type {\n",
       "        vertical-align: middle;\n",
       "    }\n",
       "\n",
       "    .dataframe tbody tr th {\n",
       "        vertical-align: top;\n",
       "    }\n",
       "\n",
       "    .dataframe thead th {\n",
       "        text-align: right;\n",
       "    }\n",
       "</style>\n",
       "<table border=\"1\" class=\"dataframe\">\n",
       "  <thead>\n",
       "    <tr style=\"text-align: right;\">\n",
       "      <th></th>\n",
       "      <th>Date</th>\n",
       "      <th>Open</th>\n",
       "      <th>High</th>\n",
       "      <th>Low</th>\n",
       "      <th>Close*</th>\n",
       "      <th>Avg. Sentiment Score</th>\n",
       "      <th>Tragectory</th>\n",
       "    </tr>\n",
       "  </thead>\n",
       "  <tbody>\n",
       "    <tr>\n",
       "      <th>0</th>\n",
       "      <td>2023-06-29</td>\n",
       "      <td>4374.94</td>\n",
       "      <td>4398.39</td>\n",
       "      <td>4371.97</td>\n",
       "      <td>4396.44</td>\n",
       "      <td>0.5940</td>\n",
       "      <td>1</td>\n",
       "    </tr>\n",
       "    <tr>\n",
       "      <th>1</th>\n",
       "      <td>2023-06-30</td>\n",
       "      <td>4422.44</td>\n",
       "      <td>4458.48</td>\n",
       "      <td>4422.44</td>\n",
       "      <td>4450.38</td>\n",
       "      <td>0.6130</td>\n",
       "      <td>1</td>\n",
       "    </tr>\n",
       "    <tr>\n",
       "      <th>2</th>\n",
       "      <td>2023-07-03</td>\n",
       "      <td>4450.48</td>\n",
       "      <td>4456.46</td>\n",
       "      <td>4442.29</td>\n",
       "      <td>4455.59</td>\n",
       "      <td>0.5100</td>\n",
       "      <td>1</td>\n",
       "    </tr>\n",
       "    <tr>\n",
       "      <th>3</th>\n",
       "      <td>2023-07-05</td>\n",
       "      <td>4442.04</td>\n",
       "      <td>4454.06</td>\n",
       "      <td>4436.61</td>\n",
       "      <td>4446.82</td>\n",
       "      <td>0.6980</td>\n",
       "      <td>0</td>\n",
       "    </tr>\n",
       "    <tr>\n",
       "      <th>4</th>\n",
       "      <td>2023-07-06</td>\n",
       "      <td>4422.62</td>\n",
       "      <td>4422.62</td>\n",
       "      <td>4385.05</td>\n",
       "      <td>4411.59</td>\n",
       "      <td>0.4816</td>\n",
       "      <td>0</td>\n",
       "    </tr>\n",
       "    <tr>\n",
       "      <th>5</th>\n",
       "      <td>2023-07-07</td>\n",
       "      <td>4404.54</td>\n",
       "      <td>4440.39</td>\n",
       "      <td>4397.40</td>\n",
       "      <td>4398.95</td>\n",
       "      <td>0.4500</td>\n",
       "      <td>0</td>\n",
       "    </tr>\n",
       "    <tr>\n",
       "      <th>6</th>\n",
       "      <td>2023-07-10</td>\n",
       "      <td>4394.23</td>\n",
       "      <td>4412.60</td>\n",
       "      <td>4389.92</td>\n",
       "      <td>4409.53</td>\n",
       "      <td>0.5300</td>\n",
       "      <td>1</td>\n",
       "    </tr>\n",
       "    <tr>\n",
       "      <th>7</th>\n",
       "      <td>2023-07-11</td>\n",
       "      <td>4415.55</td>\n",
       "      <td>4443.64</td>\n",
       "      <td>4408.46</td>\n",
       "      <td>4439.26</td>\n",
       "      <td>0.4800</td>\n",
       "      <td>1</td>\n",
       "    </tr>\n",
       "    <tr>\n",
       "      <th>8</th>\n",
       "      <td>2023-07-12</td>\n",
       "      <td>4467.69</td>\n",
       "      <td>4488.34</td>\n",
       "      <td>4463.23</td>\n",
       "      <td>4472.16</td>\n",
       "      <td>0.5220</td>\n",
       "      <td>1</td>\n",
       "    </tr>\n",
       "    <tr>\n",
       "      <th>9</th>\n",
       "      <td>2023-07-13</td>\n",
       "      <td>4491.50</td>\n",
       "      <td>4517.38</td>\n",
       "      <td>4489.36</td>\n",
       "      <td>4510.04</td>\n",
       "      <td>0.7100</td>\n",
       "      <td>1</td>\n",
       "    </tr>\n",
       "  </tbody>\n",
       "</table>\n",
       "</div>"
      ],
      "text/plain": [
       "        Date     Open     High      Low   Close*  Avg. Sentiment Score  \\\n",
       "0 2023-06-29  4374.94  4398.39  4371.97  4396.44                0.5940   \n",
       "1 2023-06-30  4422.44  4458.48  4422.44  4450.38                0.6130   \n",
       "2 2023-07-03  4450.48  4456.46  4442.29  4455.59                0.5100   \n",
       "3 2023-07-05  4442.04  4454.06  4436.61  4446.82                0.6980   \n",
       "4 2023-07-06  4422.62  4422.62  4385.05  4411.59                0.4816   \n",
       "5 2023-07-07  4404.54  4440.39  4397.40  4398.95                0.4500   \n",
       "6 2023-07-10  4394.23  4412.60  4389.92  4409.53                0.5300   \n",
       "7 2023-07-11  4415.55  4443.64  4408.46  4439.26                0.4800   \n",
       "8 2023-07-12  4467.69  4488.34  4463.23  4472.16                0.5220   \n",
       "9 2023-07-13  4491.50  4517.38  4489.36  4510.04                0.7100   \n",
       "\n",
       "   Tragectory  \n",
       "0           1  \n",
       "1           1  \n",
       "2           1  \n",
       "3           0  \n",
       "4           0  \n",
       "5           0  \n",
       "6           1  \n",
       "7           1  \n",
       "8           1  \n",
       "9           1  "
      ]
     },
     "execution_count": 141,
     "metadata": {},
     "output_type": "execute_result"
    }
   ],
   "source": [
    "import pandas as pd\n",
    "df = pd.read_excel('/Users/neil/Documents/code/Research-Project/data/stock_data/S&P500_data.xlsx')\n",
    "df.head(10)"
   ]
  },
  {
   "cell_type": "code",
   "execution_count": 142,
   "metadata": {},
   "outputs": [
    {
     "data": {
      "text/plain": [
       "array([[4.37494e+03, 4.39839e+03, 4.37197e+03, 5.94000e-01],\n",
       "       [4.42244e+03, 4.45848e+03, 4.42244e+03, 6.13000e-01],\n",
       "       [4.45048e+03, 4.45646e+03, 4.44229e+03, 5.10000e-01],\n",
       "       [4.44204e+03, 4.45406e+03, 4.43661e+03, 6.98000e-01],\n",
       "       [4.42262e+03, 4.42262e+03, 4.38505e+03, 4.81600e-01],\n",
       "       [4.40454e+03, 4.44039e+03, 4.39740e+03, 4.50000e-01],\n",
       "       [4.39423e+03, 4.41260e+03, 4.38992e+03, 5.30000e-01],\n",
       "       [4.41555e+03, 4.44364e+03, 4.40846e+03, 4.80000e-01],\n",
       "       [4.46769e+03, 4.48834e+03, 4.46323e+03, 5.22000e-01],\n",
       "       [4.49150e+03, 4.51738e+03, 4.48936e+03, 7.10000e-01],\n",
       "       [4.51461e+03, 4.52776e+03, 4.49956e+03, 6.58000e-01],\n",
       "       [4.50886e+03, 4.53285e+03, 4.50490e+03, 4.40000e-01],\n",
       "       [4.52178e+03, 4.56230e+03, 4.51459e+03, 5.68000e-01],\n",
       "       [4.56387e+03, 4.57843e+03, 4.55748e+03, 5.91000e-01],\n",
       "       [4.55438e+03, 4.56474e+03, 4.52756e+03, 5.00000e-01],\n",
       "       [4.55016e+03, 4.55500e+03, 4.53579e+03, 5.53000e-01],\n",
       "       [4.54339e+03, 4.56341e+03, 4.54129e+03, 5.90000e-01],\n",
       "       [4.55519e+03, 4.58062e+03, 4.55242e+03, 5.30000e-01],\n",
       "       [4.55896e+03, 4.58247e+03, 4.54758e+03, 3.87500e-01],\n",
       "       [4.59826e+03, 4.60707e+03, 4.52856e+03, 7.17000e-01],\n",
       "       [4.56575e+03, 4.59016e+03, 4.56401e+03, 5.75000e-01],\n",
       "       [4.59826e+03, 4.60707e+03, 4.52856e+03, 2.95000e-01]])"
      ]
     },
     "execution_count": 142,
     "metadata": {},
     "output_type": "execute_result"
    }
   ],
   "source": [
    "x = df.iloc[:,[1,2,3,5]].values \n",
    "x"
   ]
  },
  {
   "cell_type": "code",
   "execution_count": 143,
   "metadata": {},
   "outputs": [
    {
     "data": {
      "text/plain": [
       "array([4396.44, 4450.38, 4455.59, 4446.82, 4411.59, 4398.95, 4409.53,\n",
       "       4439.26, 4472.16, 4510.04, 4505.42, 4522.79, 4554.98, 4565.72,\n",
       "       4534.87, 4536.34, 4554.64, 4567.46, 4566.75, 4537.41, 4582.23,\n",
       "       4537.41])"
      ]
     },
     "execution_count": 143,
     "metadata": {},
     "output_type": "execute_result"
    }
   ],
   "source": [
    "y = df.iloc[:,4].values\n",
    "y"
   ]
  },
  {
   "cell_type": "code",
   "execution_count": 144,
   "metadata": {},
   "outputs": [],
   "source": [
    "from sklearn.model_selection import train_test_split\n",
    "x_train,x_test,y_train,y_test = train_test_split(x,y,test_size=.2,random_state=0)"
   ]
  },
  {
   "cell_type": "code",
   "execution_count": 145,
   "metadata": {},
   "outputs": [],
   "source": [
    "from sklearn.linear_model import LinearRegression\n",
    "model = LinearRegression()"
   ]
  },
  {
   "cell_type": "code",
   "execution_count": 146,
   "metadata": {},
   "outputs": [
    {
     "data": {
      "text/html": [
       "<style>#sk-container-id-12 {color: black;}#sk-container-id-12 pre{padding: 0;}#sk-container-id-12 div.sk-toggleable {background-color: white;}#sk-container-id-12 label.sk-toggleable__label {cursor: pointer;display: block;width: 100%;margin-bottom: 0;padding: 0.3em;box-sizing: border-box;text-align: center;}#sk-container-id-12 label.sk-toggleable__label-arrow:before {content: \"▸\";float: left;margin-right: 0.25em;color: #696969;}#sk-container-id-12 label.sk-toggleable__label-arrow:hover:before {color: black;}#sk-container-id-12 div.sk-estimator:hover label.sk-toggleable__label-arrow:before {color: black;}#sk-container-id-12 div.sk-toggleable__content {max-height: 0;max-width: 0;overflow: hidden;text-align: left;background-color: #f0f8ff;}#sk-container-id-12 div.sk-toggleable__content pre {margin: 0.2em;color: black;border-radius: 0.25em;background-color: #f0f8ff;}#sk-container-id-12 input.sk-toggleable__control:checked~div.sk-toggleable__content {max-height: 200px;max-width: 100%;overflow: auto;}#sk-container-id-12 input.sk-toggleable__control:checked~label.sk-toggleable__label-arrow:before {content: \"▾\";}#sk-container-id-12 div.sk-estimator input.sk-toggleable__control:checked~label.sk-toggleable__label {background-color: #d4ebff;}#sk-container-id-12 div.sk-label input.sk-toggleable__control:checked~label.sk-toggleable__label {background-color: #d4ebff;}#sk-container-id-12 input.sk-hidden--visually {border: 0;clip: rect(1px 1px 1px 1px);clip: rect(1px, 1px, 1px, 1px);height: 1px;margin: -1px;overflow: hidden;padding: 0;position: absolute;width: 1px;}#sk-container-id-12 div.sk-estimator {font-family: monospace;background-color: #f0f8ff;border: 1px dotted black;border-radius: 0.25em;box-sizing: border-box;margin-bottom: 0.5em;}#sk-container-id-12 div.sk-estimator:hover {background-color: #d4ebff;}#sk-container-id-12 div.sk-parallel-item::after {content: \"\";width: 100%;border-bottom: 1px solid gray;flex-grow: 1;}#sk-container-id-12 div.sk-label:hover label.sk-toggleable__label {background-color: #d4ebff;}#sk-container-id-12 div.sk-serial::before {content: \"\";position: absolute;border-left: 1px solid gray;box-sizing: border-box;top: 0;bottom: 0;left: 50%;z-index: 0;}#sk-container-id-12 div.sk-serial {display: flex;flex-direction: column;align-items: center;background-color: white;padding-right: 0.2em;padding-left: 0.2em;position: relative;}#sk-container-id-12 div.sk-item {position: relative;z-index: 1;}#sk-container-id-12 div.sk-parallel {display: flex;align-items: stretch;justify-content: center;background-color: white;position: relative;}#sk-container-id-12 div.sk-item::before, #sk-container-id-12 div.sk-parallel-item::before {content: \"\";position: absolute;border-left: 1px solid gray;box-sizing: border-box;top: 0;bottom: 0;left: 50%;z-index: -1;}#sk-container-id-12 div.sk-parallel-item {display: flex;flex-direction: column;z-index: 1;position: relative;background-color: white;}#sk-container-id-12 div.sk-parallel-item:first-child::after {align-self: flex-end;width: 50%;}#sk-container-id-12 div.sk-parallel-item:last-child::after {align-self: flex-start;width: 50%;}#sk-container-id-12 div.sk-parallel-item:only-child::after {width: 0;}#sk-container-id-12 div.sk-dashed-wrapped {border: 1px dashed gray;margin: 0 0.4em 0.5em 0.4em;box-sizing: border-box;padding-bottom: 0.4em;background-color: white;}#sk-container-id-12 div.sk-label label {font-family: monospace;font-weight: bold;display: inline-block;line-height: 1.2em;}#sk-container-id-12 div.sk-label-container {text-align: center;}#sk-container-id-12 div.sk-container {/* jupyter's `normalize.less` sets `[hidden] { display: none; }` but bootstrap.min.css set `[hidden] { display: none !important; }` so we also need the `!important` here to be able to override the default hidden behavior on the sphinx rendered scikit-learn.org. See: https://github.com/scikit-learn/scikit-learn/issues/21755 */display: inline-block !important;position: relative;}#sk-container-id-12 div.sk-text-repr-fallback {display: none;}</style><div id=\"sk-container-id-12\" class=\"sk-top-container\"><div class=\"sk-text-repr-fallback\"><pre>LinearRegression()</pre><b>In a Jupyter environment, please rerun this cell to show the HTML representation or trust the notebook. <br />On GitHub, the HTML representation is unable to render, please try loading this page with nbviewer.org.</b></div><div class=\"sk-container\" hidden><div class=\"sk-item\"><div class=\"sk-estimator sk-toggleable\"><input class=\"sk-toggleable__control sk-hidden--visually\" id=\"sk-estimator-id-12\" type=\"checkbox\" checked><label for=\"sk-estimator-id-12\" class=\"sk-toggleable__label sk-toggleable__label-arrow\">LinearRegression</label><div class=\"sk-toggleable__content\"><pre>LinearRegression()</pre></div></div></div></div></div>"
      ],
      "text/plain": [
       "LinearRegression()"
      ]
     },
     "execution_count": 146,
     "metadata": {},
     "output_type": "execute_result"
    }
   ],
   "source": [
    "model.fit(x_train,y_train)"
   ]
  },
  {
   "cell_type": "code",
   "execution_count": 147,
   "metadata": {},
   "outputs": [
    {
     "data": {
      "text/plain": [
       "array([4582.23, 4505.42, 4534.87, 4565.72, 4450.38])"
      ]
     },
     "execution_count": 147,
     "metadata": {},
     "output_type": "execute_result"
    }
   ],
   "source": [
    "y_test"
   ]
  },
  {
   "cell_type": "code",
   "execution_count": 148,
   "metadata": {},
   "outputs": [],
   "source": [
    "y_pred = model.predict(x_test)"
   ]
  },
  {
   "cell_type": "code",
   "execution_count": 149,
   "metadata": {},
   "outputs": [
    {
     "data": {
      "text/plain": [
       "array([4578.99249558, 4513.0785242 , 4538.74769444, 4568.91556743,\n",
       "       4447.36538627])"
      ]
     },
     "execution_count": 149,
     "metadata": {},
     "output_type": "execute_result"
    }
   ],
   "source": [
    "y_pred"
   ]
  },
  {
   "cell_type": "code",
   "execution_count": 150,
   "metadata": {},
   "outputs": [
    {
     "data": {
      "text/plain": [
       "0.9905465205550432"
      ]
     },
     "execution_count": 150,
     "metadata": {},
     "output_type": "execute_result"
    }
   ],
   "source": [
    "from sklearn.metrics import r2_score\n",
    "r2 = r2_score(y_test, y_pred)\n",
    "r2"
   ]
  },
  {
   "cell_type": "code",
   "execution_count": null,
   "metadata": {},
   "outputs": [],
   "source": []
  }
 ],
 "metadata": {
  "kernelspec": {
   "display_name": "venv",
   "language": "python",
   "name": "python3"
  },
  "language_info": {
   "codemirror_mode": {
    "name": "ipython",
    "version": 3
   },
   "file_extension": ".py",
   "mimetype": "text/x-python",
   "name": "python",
   "nbconvert_exporter": "python",
   "pygments_lexer": "ipython3",
   "version": "3.10.9"
  },
  "orig_nbformat": 4
 },
 "nbformat": 4,
 "nbformat_minor": 2
}
